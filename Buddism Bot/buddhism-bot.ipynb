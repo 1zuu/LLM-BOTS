{
 "cells": [
  {
   "cell_type": "code",
   "execution_count": 6,
   "metadata": {},
   "outputs": [],
   "source": [
    "import os, pprint\n",
    "import chainlit as cl\n",
    "from langchain import PromptTemplate\n",
    "from langchain.llms import CTransformers\n",
    "from langchain.vectorstores import FAISS\n",
    "from langchain.chains import RetrievalQA\n",
    "from langchain.embeddings import HuggingFaceEmbeddings\n",
    "from langchain.text_splitter import RecursiveCharacterTextSplitter \n",
    "from langchain.document_loaders import PyPDFLoader, DirectoryLoader"
   ]
  },
  {
   "cell_type": "code",
   "execution_count": 2,
   "metadata": {},
   "outputs": [],
   "source": [
    "DATA_PATH = 'knowledge/docs/'\n",
    "DB_FAISS_PATH = 'knowledge/vectorstore/db_faiss'"
   ]
  },
  {
   "cell_type": "code",
   "execution_count": 3,
   "metadata": {},
   "outputs": [
    {
     "name": "stdout",
     "output_type": "stream",
     "text": [
      "2023-09-28 20:19:59 - Load pretrained SentenceTransformer: sentence-transformers/all-MiniLM-L6-v2\n",
      "'NoneType' object has no attribute 'cadam32bit_grad_fp32'\n"
     ]
    },
    {
     "name": "stderr",
     "output_type": "stream",
     "text": [
      "/Users/1zuu/anaconda3/envs/llm/lib/python3.10/site-packages/bitsandbytes/cextension.py:34: UserWarning: The installed version of bitsandbytes was compiled without GPU support. 8-bit optimizers, 8-bit multiplication, and GPU quantization are unavailable.\n",
      "  warn(\"The installed version of bitsandbytes was compiled without GPU support. \"\n"
     ]
    },
    {
     "data": {
      "application/vnd.jupyter.widget-view+json": {
       "model_id": "fc8d66a05f684ccc910158e63fccbc5e",
       "version_major": 2,
       "version_minor": 0
      },
      "text/plain": [
       "Batches:   0%|          | 0/67 [00:00<?, ?it/s]"
      ]
     },
     "metadata": {},
     "output_type": "display_data"
    },
    {
     "name": "stdout",
     "output_type": "stream",
     "text": [
      "2023-09-28 20:20:37 - Loading faiss.\n",
      "2023-09-28 20:20:37 - Successfully loaded faiss.\n",
      "FAISS DB created\n"
     ]
    }
   ],
   "source": [
    "def create_vector_db():\n",
    "    if os.path.exists(DB_FAISS_PATH):\n",
    "        print('FAISS DB already exists')\n",
    "\n",
    "    else:\n",
    "        loader = DirectoryLoader(\n",
    "                                DATA_PATH,\n",
    "                                glob='*.pdf',\n",
    "                                loader_cls=PyPDFLoader\n",
    "                                )\n",
    "\n",
    "        documents = loader.load()\n",
    "        text_splitter = RecursiveCharacterTextSplitter(chunk_size=500,\n",
    "                                                    chunk_overlap=50)\n",
    "        texts = text_splitter.split_documents(documents)\n",
    "\n",
    "        embeddings = HuggingFaceEmbeddings(\n",
    "                                            model_name='sentence-transformers/all-MiniLM-L6-v2',\n",
    "                                            model_kwargs={'device': 'mps'}\n",
    "                                            )\n",
    "\n",
    "        db = FAISS.from_documents(texts, embeddings)\n",
    "        db.save_local(DB_FAISS_PATH)\n",
    "\n",
    "        print('FAISS DB created')\n",
    "\n",
    "create_vector_db()"
   ]
  },
  {
   "cell_type": "code",
   "execution_count": 4,
   "metadata": {},
   "outputs": [],
   "source": [
    "custom_prompt_template = \"\"\"Use the following pieces of information to answer the user's question.\n",
    "If you don't know the answer, just say that you don't know, don't try to make up an answer.\n",
    "\n",
    "Context: {context}\n",
    "Question: {question}\n",
    "\n",
    "Only return the helpful answer below and nothing else.\n",
    "Helpful answer:\n",
    "\"\"\"\n",
    "\n",
    "def set_custom_prompt():\n",
    "    \"\"\"\n",
    "    Prompt template for QA retrieval for each vectorstore\n",
    "    \"\"\"\n",
    "    prompt = PromptTemplate(\n",
    "                            template=custom_prompt_template,\n",
    "                            input_variables=['context', 'question']\n",
    "                            )\n",
    "    return prompt\n",
    "\n",
    "def retrieval_qa_chain(llm, prompt, db):\n",
    "    qa_chain = RetrievalQA.from_chain_type(llm=llm,\n",
    "                                       chain_type='stuff',\n",
    "                                       retriever=db.as_retriever(search_kwargs={'k': 2}),\n",
    "                                       return_source_documents=True,\n",
    "                                       chain_type_kwargs={'prompt': prompt}\n",
    "                                       )\n",
    "    return qa_chain\n",
    "\n",
    "def load_llm():\n",
    "    llm = CTransformers(\n",
    "                        model = \"TheBloke/Llama-2-7B-Chat-GGML\",\n",
    "                        model_type=\"llama\",\n",
    "                        max_new_tokens = 512,\n",
    "                        temperature = 0.5\n",
    "                        )\n",
    "    return llm\n",
    "\n",
    "def qa_bot():\n",
    "    embeddings = HuggingFaceEmbeddings(model_name=\"sentence-transformers/all-MiniLM-L6-v2\",\n",
    "                                       model_kwargs={'device': 'mps'})\n",
    "    db = FAISS.load_local(DB_FAISS_PATH, embeddings)\n",
    "    llm = load_llm()\n",
    "    qa_prompt = set_custom_prompt()\n",
    "    qa = retrieval_qa_chain(llm, qa_prompt, db)\n",
    "\n",
    "    return qa\n",
    "\n",
    "def final_result(query):\n",
    "    qa_result = qa_bot()\n",
    "    response = qa_result({'query': query})\n",
    "    return response"
   ]
  },
  {
   "cell_type": "code",
   "execution_count": 12,
   "metadata": {},
   "outputs": [
    {
     "name": "stdout",
     "output_type": "stream",
     "text": [
      "2023-09-28 20:25:50 - Load pretrained SentenceTransformer: sentence-transformers/all-MiniLM-L6-v2\n"
     ]
    },
    {
     "data": {
      "application/vnd.jupyter.widget-view+json": {
       "model_id": "f94df4567a90426d92257c8a2df080b4",
       "version_major": 2,
       "version_minor": 0
      },
      "text/plain": [
       "Fetching 1 files:   0%|          | 0/1 [00:00<?, ?it/s]"
      ]
     },
     "metadata": {},
     "output_type": "display_data"
    },
    {
     "data": {
      "application/vnd.jupyter.widget-view+json": {
       "model_id": "56d5b2009d03415eae56ddde410af6d6",
       "version_major": 2,
       "version_minor": 0
      },
      "text/plain": [
       "Fetching 1 files:   0%|          | 0/1 [00:00<?, ?it/s]"
      ]
     },
     "metadata": {},
     "output_type": "display_data"
    },
    {
     "data": {
      "application/vnd.jupyter.widget-view+json": {
       "model_id": "6ce45d5b98944f1ca06874c5e242e8ad",
       "version_major": 2,
       "version_minor": 0
      },
      "text/plain": [
       "Batches:   0%|          | 0/1 [00:00<?, ?it/s]"
      ]
     },
     "metadata": {},
     "output_type": "display_data"
    },
    {
     "name": "stdout",
     "output_type": "stream",
     "text": [
      "{'query': 'What is Buddha-Dhamma?',\n",
      " 'result': 'Buddha-Dhamma refers to the moral and philosophical system taught '\n",
      "           'by the Buddha, which includes his teachings on ethics, morality, '\n",
      "           'and spiritual enlightenment.',\n",
      " 'source_documents': [Document(page_content='to the learned writers on their laudable efforts to enlighten the \\nreaders on the Buddha-Dhamma.\\nThis new treatise is another humble attempt made by a \\nmember of the Order of the Sangha, based on the Pāli Texts, \\ncommentaries, and traditions prevailing in Buddhist countries, \\nespecially in Ceylon.\\nThe first part of the book deals with the Life of the Buddha, \\nthc second with the Dhamma, the Pāli term for His Doctrine.\\n*\\nThe Buddha-Dhamma is a moral and philosophical system', metadata={'source': 'knowledge/docs/buddha-teachingsurw6.pdf', 'page': 6}),\n",
      "                      Document(page_content='Truth. He is also called Dhammassāmi as He is the Lord of the \\nDhamma (Doctrine).\\nAs the Buddha Himself says, “He is the Accomplished One \\n(Tathāgata), the Worthy One (Araham), the Fully Enlightened \\nOne (Sammā Sambuddha), the creator of the unarisen way, the \\nproducer of the unproduced way, the proclaimer of the unpro -\\nclaimed way, the knower of the way, the beholder of the way, \\nthe cognizer of the way.” 3\\nThe Buddha had no teacher for His Enlightenment. “Na me', metadata={'source': 'knowledge/docs/buddha-teachingsurw6.pdf', 'page': 39})]}\n"
     ]
    }
   ],
   "source": [
    "response = final_result('What is Buddha-Dhamma?')\n",
    "pprint.pprint(response)"
   ]
  },
  {
   "cell_type": "code",
   "execution_count": null,
   "metadata": {},
   "outputs": [],
   "source": []
  }
 ],
 "metadata": {
  "kernelspec": {
   "display_name": "Python 3",
   "language": "python",
   "name": "python3"
  },
  "language_info": {
   "codemirror_mode": {
    "name": "ipython",
    "version": 3
   },
   "file_extension": ".py",
   "mimetype": "text/x-python",
   "name": "python",
   "nbconvert_exporter": "python",
   "pygments_lexer": "ipython3",
   "version": "3.10.13"
  },
  "orig_nbformat": 4
 },
 "nbformat": 4,
 "nbformat_minor": 2
}
