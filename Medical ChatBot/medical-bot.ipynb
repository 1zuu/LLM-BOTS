{
 "cells": [
  {
   "cell_type": "code",
   "execution_count": 1,
   "metadata": {},
   "outputs": [],
   "source": [
    "import os\n",
    "import chainlit as cl\n",
    "from langchain import PromptTemplate\n",
    "from langchain.llms import CTransformers\n",
    "from langchain.vectorstores import FAISS\n",
    "from langchain.chains import RetrievalQA\n",
    "from langchain.embeddings import HuggingFaceEmbeddings\n",
    "from langchain.text_splitter import RecursiveCharacterTextSplitter \n",
    "from langchain.document_loaders import PyPDFLoader, DirectoryLoader"
   ]
  },
  {
   "cell_type": "code",
   "execution_count": 2,
   "metadata": {},
   "outputs": [],
   "source": [
    "DATA_PATH = 'knowledge/docs/'\n",
    "DB_FAISS_PATH = 'knowledge/vectorstore/db_faiss'"
   ]
  },
  {
   "cell_type": "code",
   "execution_count": 3,
   "metadata": {},
   "outputs": [
    {
     "name": "stdout",
     "output_type": "stream",
     "text": [
      "FAISS DB already exists\n"
     ]
    }
   ],
   "source": [
    "def create_vector_db():\n",
    "    if os.path.exists(DB_FAISS_PATH):\n",
    "        print('FAISS DB already exists')\n",
    "\n",
    "    else:\n",
    "        loader = DirectoryLoader(\n",
    "                                DATA_PATH,\n",
    "                                glob='*.pdf',\n",
    "                                loader_cls=PyPDFLoader\n",
    "                                )\n",
    "\n",
    "        documents = loader.load()\n",
    "        text_splitter = RecursiveCharacterTextSplitter(chunk_size=500,\n",
    "                                                    chunk_overlap=50)\n",
    "        texts = text_splitter.split_documents(documents)\n",
    "\n",
    "        embeddings = HuggingFaceEmbeddings(\n",
    "                                            model_name='sentence-transformers/all-MiniLM-L6-v2',\n",
    "                                            model_kwargs={'device': 'mps'}\n",
    "                                            )\n",
    "\n",
    "        db = FAISS.from_documents(texts, embeddings)\n",
    "        db.save_local(DB_FAISS_PATH)\n",
    "\n",
    "        print('FAISS DB created')\n",
    "\n",
    "create_vector_db()"
   ]
  },
  {
   "cell_type": "code",
   "execution_count": 4,
   "metadata": {},
   "outputs": [],
   "source": [
    "custom_prompt_template = \"\"\"Use the following pieces of information to answer the user's question.\n",
    "If you don't know the answer, just say that you don't know, don't try to make up an answer.\n",
    "\n",
    "Context: {context}\n",
    "Question: {question}\n",
    "\n",
    "Only return the helpful answer below and nothing else.\n",
    "Helpful answer:\n",
    "\"\"\"\n",
    "\n",
    "def set_custom_prompt():\n",
    "    \"\"\"\n",
    "    Prompt template for QA retrieval for each vectorstore\n",
    "    \"\"\"\n",
    "    prompt = PromptTemplate(\n",
    "                            template=custom_prompt_template,\n",
    "                            input_variables=['context', 'question']\n",
    "                            )\n",
    "    return prompt\n",
    "\n",
    "def retrieval_qa_chain(llm, prompt, db):\n",
    "    qa_chain = RetrievalQA.from_chain_type(llm=llm,\n",
    "                                       chain_type='stuff',\n",
    "                                       retriever=db.as_retriever(search_kwargs={'k': 2}),\n",
    "                                       return_source_documents=True,\n",
    "                                       chain_type_kwargs={'prompt': prompt}\n",
    "                                       )\n",
    "    return qa_chain\n",
    "\n",
    "def load_llm():\n",
    "    llm = CTransformers(\n",
    "                        model = \"TheBloke/Llama-2-7B-Chat-GGML\",\n",
    "                        model_type=\"llama\",\n",
    "                        max_new_tokens = 512,\n",
    "                        temperature = 0.5\n",
    "                        )\n",
    "    return llm\n",
    "\n",
    "def qa_bot():\n",
    "    embeddings = HuggingFaceEmbeddings(model_name=\"sentence-transformers/all-MiniLM-L6-v2\",\n",
    "                                       model_kwargs={'device': 'mps'})\n",
    "    db = FAISS.load_local(DB_FAISS_PATH, embeddings)\n",
    "    llm = load_llm()\n",
    "    qa_prompt = set_custom_prompt()\n",
    "    qa = retrieval_qa_chain(llm, qa_prompt, db)\n",
    "\n",
    "    return qa\n",
    "\n",
    "def final_result(query):\n",
    "    qa_result = qa_bot()\n",
    "    response = qa_result({'query': query})\n",
    "    return response"
   ]
  },
  {
   "cell_type": "code",
   "execution_count": 5,
   "metadata": {},
   "outputs": [
    {
     "name": "stdout",
     "output_type": "stream",
     "text": [
      "2023-09-27 10:04:49 - Load pretrained SentenceTransformer: sentence-transformers/all-MiniLM-L6-v2\n",
      "'NoneType' object has no attribute 'cadam32bit_grad_fp32'\n"
     ]
    },
    {
     "name": "stderr",
     "output_type": "stream",
     "text": [
      "/Users/1zuu/anaconda3/envs/llm/lib/python3.10/site-packages/bitsandbytes/cextension.py:34: UserWarning: The installed version of bitsandbytes was compiled without GPU support. 8-bit optimizers, 8-bit multiplication, and GPU quantization are unavailable.\n",
      "  warn(\"The installed version of bitsandbytes was compiled without GPU support. \"\n"
     ]
    },
    {
     "name": "stdout",
     "output_type": "stream",
     "text": [
      "2023-09-27 10:04:52 - Loading faiss.\n",
      "2023-09-27 10:04:52 - Successfully loaded faiss.\n"
     ]
    },
    {
     "data": {
      "application/vnd.jupyter.widget-view+json": {
       "model_id": "4e98d18c20604b40b3bba0feb3fb9bd8",
       "version_major": 2,
       "version_minor": 0
      },
      "text/plain": [
       "Fetching 1 files:   0%|          | 0/1 [00:00<?, ?it/s]"
      ]
     },
     "metadata": {},
     "output_type": "display_data"
    },
    {
     "data": {
      "application/vnd.jupyter.widget-view+json": {
       "model_id": "df18cc4ddd11454eafe1b5446cd4407b",
       "version_major": 2,
       "version_minor": 0
      },
      "text/plain": [
       "Downloading (…)5c7f1dbf/config.json:   0%|          | 0.00/29.0 [00:00<?, ?B/s]"
      ]
     },
     "metadata": {},
     "output_type": "display_data"
    },
    {
     "data": {
      "application/vnd.jupyter.widget-view+json": {
       "model_id": "fc1912417f3f41de89d3f9d656e2c90e",
       "version_major": 2,
       "version_minor": 0
      },
      "text/plain": [
       "Fetching 1 files:   0%|          | 0/1 [00:00<?, ?it/s]"
      ]
     },
     "metadata": {},
     "output_type": "display_data"
    },
    {
     "data": {
      "application/vnd.jupyter.widget-view+json": {
       "model_id": "f88f48a50107417a85d041b3806e99c2",
       "version_major": 2,
       "version_minor": 0
      },
      "text/plain": [
       "Downloading (…)chat.ggmlv3.q2_K.bin:   0%|          | 0.00/2.87G [00:00<?, ?B/s]"
      ]
     },
     "metadata": {},
     "output_type": "display_data"
    },
    {
     "data": {
      "application/vnd.jupyter.widget-view+json": {
       "model_id": "4616d8c752724824a7655a0e3dc6a7e6",
       "version_major": 2,
       "version_minor": 0
      },
      "text/plain": [
       "Batches:   0%|          | 0/1 [00:00<?, ?it/s]"
      ]
     },
     "metadata": {},
     "output_type": "display_data"
    },
    {
     "data": {
      "text/plain": [
       "{'query': 'What is the difference between a cold and the flu?',\n",
       " 'result': 'The main difference between a cold and the flu is that the flu is caused by an actual virus, whereas a cold is usually caused by other factors such as viruses, bacteria, or environmental irritants.',\n",
       " 'source_documents': [Document(page_content='Although acute and chronic bronchitis are both\\ninflammations of the air passages, their causes and treat-ments are different. Acute bronchitis is most prevalent inwinter. It usually follows a viral infection, such as a coldor the flu, and can be accompanied by a secondary bacter-ial infection. Acute bronchitis resolves within two weeks,although the cough may persist longer. Acute bronchitis,\\nlike any upper airway inflammatory process, can increasea person’s likelihood of developing pneumonia .', metadata={'source': 'knowledge/docs/knowledge.pdf', 'page': 611}),\n",
       "  Document(page_content='Like all other antibiotics, aminoglycosides are not\\neffective against influenza , the common cold , or other\\nviral infections.\\nPrecautions\\nPre-existing medical conditions—such as kidney dis-\\nease, eighth cranial nerve disease, myasthenia gravis , and', metadata={'source': 'knowledge/docs/knowledge.pdf', 'page': 163})]}"
      ]
     },
     "execution_count": 5,
     "metadata": {},
     "output_type": "execute_result"
    }
   ],
   "source": [
    "final_result('What is the difference between a cold and the flu?')"
   ]
  },
  {
   "cell_type": "code",
   "execution_count": null,
   "metadata": {},
   "outputs": [],
   "source": []
  }
 ],
 "metadata": {
  "kernelspec": {
   "display_name": "Python 3",
   "language": "python",
   "name": "python3"
  },
  "language_info": {
   "codemirror_mode": {
    "name": "ipython",
    "version": 3
   },
   "file_extension": ".py",
   "mimetype": "text/x-python",
   "name": "python",
   "nbconvert_exporter": "python",
   "pygments_lexer": "ipython3",
   "version": "3.10.13"
  },
  "orig_nbformat": 4
 },
 "nbformat": 4,
 "nbformat_minor": 2
}
